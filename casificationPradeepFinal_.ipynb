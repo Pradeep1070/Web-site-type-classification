{
  "cells": [
    {
      "cell_type": "markdown",
      "metadata": {
        "id": "view-in-github",
        "colab_type": "text"
      },
      "source": [
        "<a href=\"https://colab.research.google.com/github/Pradeep1070/Web-site-type-classification/blob/main/casificationPradeepFinal_.ipynb\" target=\"_parent\"><img src=\"https://colab.research.google.com/assets/colab-badge.svg\" alt=\"Open In Colab\"/></a>"
      ]
    },
    {
      "cell_type": "code",
      "execution_count": 3,
      "metadata": {
        "id": "UicKJS0gRpuM"
      },
      "outputs": [],
      "source": [
        "from string import punctuation\n",
        "from sklearn.feature_extraction.text import CountVectorizer\n",
        "from sklearn.feature_extraction.text import TfidfTransformer\n",
        "from sklearn.linear_model import LogisticRegression\n",
        "from sklearn.model_selection import train_test_split\n",
        "\n",
        "from statistics import mean\n",
        "from statistics import stdev"
      ]
    },
    {
      "cell_type": "code",
      "execution_count": 25,
      "metadata": {
        "id": "ATzm1ISTRpzw"
      },
      "outputs": [],
      "source": [
        "from sklearn.naive_bayes import GaussianNB\n",
        "from sklearn.naive_bayes import BernoulliNB\n",
        "from sklearn.naive_bayes import MultinomialNB\n",
        "from sklearn.naive_bayes import ComplementNB\n",
        "#from sklearn.naive_bayes import CategoricalNB\n",
        "\n",
        "from sklearn.tree import DecisionTreeClassifier\n",
        "from sklearn.ensemble import RandomForestClassifier\n",
        "from sklearn.neighbors import KNeighborsClassifier\n",
        "\n",
        "from sklearn.linear_model import LogisticRegression\n",
        "from sklearn.svm import SVC, LinearSVC,NuSVC\n",
        "\n",
        "#from xgboost.sklearn import XGBClassifier\n",
        "from sklearn.ensemble import AdaBoostClassifier\n",
        "from sklearn.ensemble import GradientBoostingClassifier\n",
        "from sklearn.ensemble import StackingClassifier"
      ]
    },
    {
      "cell_type": "code",
      "source": [
        "from google.colab import drive\n",
        "drive.mount('/content/drive')"
      ],
      "metadata": {
        "colab": {
          "base_uri": "https://localhost:8080/"
        },
        "id": "wLWXDexcR7Pw",
        "outputId": "4b54be63-5ec3-4ebe-dffa-98be4861cc94"
      },
      "execution_count": 8,
      "outputs": [
        {
          "output_type": "stream",
          "name": "stdout",
          "text": [
            "Drive already mounted at /content/drive; to attempt to forcibly remount, call drive.mount(\"/content/drive\", force_remount=True).\n"
          ]
        }
      ]
    },
    {
      "cell_type": "code",
      "execution_count": 5,
      "metadata": {
        "id": "WZUeY4OARpuP"
      },
      "outputs": [],
      "source": [
        "def preprocess(lst):\n",
        "    allWebSites=[]\n",
        "    for line in lst:\n",
        "        webWords=preprocessWebSite(line)\n",
        "        if webWords:\n",
        "            allWebSites.append(webWords)\n",
        "    return allWebSites\n",
        "\n",
        "def preprocessWebSite(l):\n",
        "    webSiteWords=[]\n",
        "    if l!='':\n",
        "        for w in l.split(' '):\n",
        "            if w not in punctuation:\n",
        "                append=1\n",
        "                for l in w:\n",
        "                    if not (l.isnumeric() or l.isalpha()):\n",
        "                        append=0\n",
        "                if append==1:\n",
        "                    webSiteWords.append(w)\n",
        "\n",
        "    return (' '.join(webSiteWords))\n"
      ]
    },
    {
      "cell_type": "code",
      "execution_count": 24,
      "metadata": {
        "colab": {
          "base_uri": "https://localhost:8080/"
        },
        "id": "yPQ7RmSfRpuR",
        "outputId": "02fe42cd-885a-4d96-b820-b52f2efcdd97"
      },
      "outputs": [
        {
          "output_type": "stream",
          "name": "stdout",
          "text": [
            "20 18 17 20 23\n"
          ]
        }
      ],
      "source": [
        "f1 = open(\"/content/drive/My Drive/Colab Notebooks/Projects/Web site type classification and clustering/data/graphics.txt\",encoding='utf-8').read()\n",
        "graphic=preprocess(f1.split('\\n'))\n",
        "\n",
        "f2 = open(\"/content/drive/My Drive/Colab Notebooks/Projects/Web site type classification and clustering/data/programing.txt\",encoding='utf-8').read()\n",
        "programing=preprocess(f2.split('\\n'))\n",
        "\n",
        "f3 = open(\"/content/drive/My Drive/Colab Notebooks/Projects/Web site type classification and clustering/data/markating.txt\",encoding='utf-8').read()\n",
        "markating=preprocess(f3.split('\\n'))\n",
        "\n",
        "f4 = open(\"/content/drive/My Drive/Colab Notebooks/Projects/Web site type classification and clustering/data/bio.txt\",encoding='utf-8').read()\n",
        "bio=preprocess(f4.split('\\n'))\n",
        "\n",
        "f55 = open(\"/content/drive/My Drive/Colab Notebooks/Projects/Web site type classification and clustering/data/other.txt\",encoding='utf-8').read()\n",
        "other=preprocess(f55.split('\\n'))\n",
        "\n",
        "print(len(graphic),len(programing),len(markating),len(bio),len(other))\n"
      ]
    },
    {
      "cell_type": "code",
      "execution_count": 12,
      "metadata": {
        "id": "r3tGZG7xRpuS"
      },
      "outputs": [],
      "source": [
        "x=[]\n",
        "y=[]\n",
        "\n",
        "for i in graphic:\n",
        "    x.append(i)\n",
        "    y.append(1)\n",
        "\n",
        "for i in programing:\n",
        "    x.append(i)\n",
        "    y.append(2)\n",
        "\n",
        "for i in markating:\n",
        "    x.append(i)\n",
        "    y.append(3)\n",
        "\n",
        "for i in bio:\n",
        "    x.append(i)\n",
        "    y.append(4)\n"
      ]
    },
    {
      "cell_type": "code",
      "execution_count": 13,
      "metadata": {
        "colab": {
          "base_uri": "https://localhost:8080/"
        },
        "id": "Zh-sVwjYRpx3",
        "outputId": "c593dd5c-9b41-449d-f378-05ae6766afe7"
      },
      "outputs": [
        {
          "output_type": "stream",
          "name": "stderr",
          "text": [
            "/usr/local/lib/python3.10/dist-packages/sklearn/feature_extraction/text.py:550: UserWarning: The parameter 'stop_words' will not be used since 'analyzer' != 'word'\n",
            "  warnings.warn(\n"
          ]
        },
        {
          "output_type": "execute_result",
          "data": {
            "text/plain": [
              "(75, 29052)"
            ]
          },
          "metadata": {},
          "execution_count": 13
        }
      ],
      "source": [
        "count_vect = CountVectorizer(analyzer='char', ngram_range=(2,4), stop_words='english')\n",
        "X_train_counts = count_vect.fit_transform(x)\n",
        "X_train_counts.shape"
      ]
    },
    {
      "cell_type": "code",
      "execution_count": 14,
      "metadata": {
        "colab": {
          "base_uri": "https://localhost:8080/"
        },
        "id": "HqmpLADBRpx4",
        "outputId": "63e7d0ce-d23c-4ed6-891c-b381b7b63fc5"
      },
      "outputs": [
        {
          "output_type": "execute_result",
          "data": {
            "text/plain": [
              "(75, 29052)"
            ]
          },
          "metadata": {},
          "execution_count": 14
        }
      ],
      "source": [
        "tf_transformer = TfidfTransformer(use_idf=True)#True\n",
        "X_train_tf = tf_transformer.fit_transform(X_train_counts)\n",
        "X_train_tf.shape"
      ]
    },
    {
      "cell_type": "code",
      "execution_count": 15,
      "metadata": {
        "id": "IaeniV9VRpx4"
      },
      "outputs": [],
      "source": [
        "x_train, x_test, y_train, y_test = train_test_split(X_train_tf, y, test_size=0.4,  random_state = 10)"
      ]
    },
    {
      "cell_type": "code",
      "execution_count": 17,
      "metadata": {
        "colab": {
          "base_uri": "https://localhost:8080/"
        },
        "id": "STUtY3CLRpx6",
        "outputId": "a4e724db-105d-4610-da04-a739fa4156cd"
      },
      "outputs": [
        {
          "output_type": "execute_result",
          "data": {
            "text/plain": [
              "0.7333333333333333"
            ]
          },
          "metadata": {},
          "execution_count": 17
        }
      ],
      "source": [
        "svm=LogisticRegression()\n",
        "svm.fit(x_train,y_train)\n",
        "svm.score(x_test,y_test)"
      ]
    },
    {
      "cell_type": "code",
      "execution_count": 28,
      "metadata": {
        "id": "eWt7xFVHRpyE"
      },
      "outputs": [],
      "source": [
        "classifier = svm"
      ]
    },
    {
      "cell_type": "markdown",
      "metadata": {
        "id": "PhyqDW6RRpzy"
      },
      "source": [
        "test accuracy"
      ]
    },
    {
      "cell_type": "code",
      "execution_count": 29,
      "metadata": {
        "colab": {
          "base_uri": "https://localhost:8080/"
        },
        "id": "I88XXgfgRpzz",
        "outputId": "74b4f6cc-8c53-4dc4-9731-6125f6e83c6d"
      },
      "outputs": [
        {
          "output_type": "stream",
          "name": "stdout",
          "text": [
            "98 72\n",
            "73.46938775510205\n"
          ]
        }
      ],
      "source": [
        "tot=0\n",
        "crr=0\n",
        "for i,webType in enumerate([graphic,programing,markating,bio,other]):\n",
        "    for webstr in webType:\n",
        "        webstr=preprocessWebSite(webstr)\n",
        "\n",
        "        webstrCV=count_vect.transform([webstr])\n",
        "        webstrTF=tf_transformer.transform(webstrCV)\n",
        "\n",
        "        pred=svm.predict(webstrTF)[0]\n",
        "        probs=list(classifier.predict_proba(webstrTF)[0])\n",
        "        if round(stdev(probs)*10,3)<=0.42:\n",
        "            pred=5\n",
        "\n",
        "        if pred==i+1:crr+=1\n",
        "        tot+=1\n",
        "        # print(i+1,pred)\n",
        "\n",
        "print(tot,crr)\n",
        "print((crr/tot)*100)"
      ]
    },
    {
      "cell_type": "markdown",
      "metadata": {
        "id": "-BDpCoiqRpz0"
      },
      "source": [
        "test accuracy on other class"
      ]
    },
    {
      "cell_type": "code",
      "execution_count": 30,
      "metadata": {
        "colab": {
          "base_uri": "https://localhost:8080/"
        },
        "id": "0LZtWpBgRpz1",
        "outputId": "6db40a21-e139-4a4b-a5e3-ac6085e803ba"
      },
      "outputs": [
        {
          "output_type": "stream",
          "name": "stdout",
          "text": [
            "23 17\n",
            "73.91304347826086\n"
          ]
        }
      ],
      "source": [
        "tot=0\n",
        "crr=0\n",
        "for webstr in other:\n",
        "    webstr=preprocessWebSite(webstr)\n",
        "\n",
        "    webstrCV=count_vect.transform([webstr])\n",
        "    webstrTF=tf_transformer.transform(webstrCV)\n",
        "\n",
        "    probs=list(classifier.predict_proba(webstrTF)[0])\n",
        "    if round(stdev(probs)*10,3)<=0.42:\n",
        "        crr+=1\n",
        "\n",
        "    tot+=1\n",
        "\n",
        "print(tot,crr)\n",
        "print((crr/tot)*100)"
      ]
    },
    {
      "cell_type": "markdown",
      "metadata": {
        "id": "kK618juIRpz2"
      },
      "source": [
        "Predicting a given web site"
      ]
    },
    {
      "cell_type": "code",
      "execution_count": 31,
      "metadata": {
        "id": "5iBsBzH-Rpz2"
      },
      "outputs": [],
      "source": [
        "# single website prediction\n",
        "def predictWebType(webstr):\n",
        "    # preprocess\n",
        "    webstr=preprocessWebSite(webstr)\n",
        "    webstrCV=count_vect.transform([webstr])\n",
        "    webstrTF=tf_transformer.transform(webstrCV)\n",
        "\n",
        "    # predict\n",
        "    pred=classifier.predict(webstrTF)[0]\n",
        "    probs=list(classifier.predict_proba(webstrTF)[0])\n",
        "    if round(stdev(probs)*10,3)<=0.42:\n",
        "        pred=0\n",
        "\n",
        "    return pred"
      ]
    },
    {
      "cell_type": "code",
      "execution_count": 32,
      "metadata": {
        "colab": {
          "base_uri": "https://localhost:8080/"
        },
        "id": "JT5MIYvwRpz3",
        "outputId": "02350d32-2b10-471c-8090-9db25d4c6249"
      },
      "outputs": [
        {
          "output_type": "execute_result",
          "data": {
            "text/plain": [
              "4"
            ]
          },
          "metadata": {},
          "execution_count": 32
        }
      ],
      "source": [
        "predictWebType(bio[15])"
      ]
    },
    {
      "cell_type": "code",
      "execution_count": 33,
      "metadata": {
        "colab": {
          "base_uri": "https://localhost:8080/"
        },
        "id": "lbOnFAm2Rpz5",
        "outputId": "1dc586fa-da88-490a-cb5f-1ccbac49545e"
      },
      "outputs": [
        {
          "output_type": "stream",
          "name": "stdout",
          "text": [
            "4\n",
            "4\n",
            "4\n",
            "3\n",
            "4\n",
            "0\n",
            "4\n",
            "4\n",
            "4\n",
            "4\n",
            "0\n",
            "4\n",
            "0\n",
            "0\n",
            "4\n",
            "4\n",
            "4\n",
            "4\n",
            "0\n",
            "0\n"
          ]
        }
      ],
      "source": [
        "for i in bio:print(predictWebType(i))"
      ]
    }
  ],
  "metadata": {
    "interpreter": {
      "hash": "56d738c7772affcbb9406b62ea03c3335d13b01087b0b22f0049ad34806b4a86"
    },
    "kernelspec": {
      "display_name": "Python 3.8.2 64-bit",
      "name": "python3"
    },
    "language_info": {
      "codemirror_mode": {
        "name": "ipython",
        "version": 3
      },
      "file_extension": ".py",
      "mimetype": "text/x-python",
      "name": "python",
      "nbconvert_exporter": "python",
      "pygments_lexer": "ipython3",
      "version": "3.8.2"
    },
    "colab": {
      "provenance": [],
      "include_colab_link": true
    }
  },
  "nbformat": 4,
  "nbformat_minor": 0
}